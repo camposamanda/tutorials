{
 "cells": [
  {
   "cell_type": "markdown",
   "metadata": {},
   "source": [
    "# p_tqdm\n",
    "\n",
    "### The combined power of parallel processing and cute progress bars for anxious girlies\n",
    "\n",
    "The creator is Kyle Swanson, a PhD student in Computer Science at Stanford University.\n",
    "\n",
    "**p_tqdm makes parallel processing with progress bars easy**\n",
    "\n",
    "Have you ever found yourself in a situation in which you have no idea how long your Python script will take to finish running? (will this take minutes... hours...? _it's giving anxiety_)\n",
    "\n",
    "Instead of print(i) (_not mindful, not demure_) you can use a progress bar while your code is paralellized (_very cutesy, very demure_)\n",
    "\n",
    "From the official [github page](https://github.com/swansonk14):\n",
    "\n",
    "- p_tqdm is a wrapper around pathos.multiprocessing and tqdm. \n",
    "- Unlike Python's default multiprocessing library, pathos provides a more flexible parallel map which can apply almost any type of function, including lambda functions, nested functions, and class methods, and can easily handle functions with multiple arguments. \n",
    "- tqdm is applied on top of pathos's parallel map and displays a progress bar including an estimated time to completion.\n",
    "\n",
    "**I find it especially useful when I am studying ranges of parameter values for my numerical model (which is basically all the time) to test my parameter choices before going all in in a cluster.**\n",
    "\n",
    "In this quick demo I will use the Rosenzweig-Macarthur predator-prey model to demonstrate how p_tqdm package can be used when studying the effect of changing prey carrying capacity (K) on the population abundances. For that we will make a bifurcation diagram.\n"
   ]
  },
  {
   "cell_type": "code",
   "execution_count": 8,
   "metadata": {},
   "outputs": [],
   "source": [
    "# First load the packages we will use to solve the ODE and plot the results\n",
    "import numpy as np\n",
    "from scipy.integrate import odeint\n",
    "import matplotlib.pyplot as plt\n",
    "\n",
    "# we will also use the time package to time how long it takes to solve the ODE\n",
    "from timeit import default_timer as timer"
   ]
  },
  {
   "cell_type": "code",
   "execution_count": 2,
   "metadata": {},
   "outputs": [],
   "source": [
    "# create a function for your model according to odeint() format\n",
    "def RM(y, t, r, K, a, h, e, d):\n",
    "    return np.array([y[0]*(r*(1-y[0]/K) - a*y[1]/(1+a*h*y[0])),\n",
    "                   y[1]*(e*a*y[0]/(1+a*h*y[0]) - d)])"
   ]
  },
  {
   "cell_type": "markdown",
   "metadata": {},
   "source": [
    "**What you could do without p_tqdm package**\n",
    "\n",
    "To study the effect of changing K you could loop over the values and use print(i) to keep track of the progress.\n",
    "\n",
    "However this get messy as the values of K you want to study increases.\n",
    "\n",
    "Also, you are underusing the processing power of your computer as you do one simmulation at a time in a sequential way."
   ]
  },
  {
   "cell_type": "code",
   "execution_count": 13,
   "metadata": {},
   "outputs": [
    {
     "name": "stdout",
     "output_type": "stream",
     "text": [
      "simulation for K =  0.5 is computed\n",
      "simulation for K =  1.0 is computed\n",
      "simulation for K =  1.5 is computed\n",
      "simulation for K =  2.0 is computed\n",
      "simulation for K =  2.5 is computed\n",
      "simulation for K =  3.0 is computed\n",
      "simulation for K =  3.5 is computed\n",
      "simulation for K =  4.0 is computed\n",
      "simulation for K =  4.5 is computed\n",
      "simulation for K =  5.0 is computed\n",
      "simulation for K =  5.5 is computed\n",
      "simulation for K =  6.0 is computed\n",
      "simulation for K =  6.5 is computed\n",
      "simulation for K =  7.0 is computed\n",
      "simulation for K =  7.5 is computed\n",
      "simulation for K =  8.0 is computed\n",
      "simulation for K =  8.5 is computed\n",
      "simulation for K =  9.0 is computed\n",
      "simulation for K =  9.5 is computed\n",
      "simulation for K =  10.0 is computed\n",
      "simulation for K =  10.5 is computed\n",
      "simulation for K =  11.0 is computed\n",
      "simulation for K =  11.5 is computed\n",
      "simulation for K =  12.0 is computed\n",
      "simulation for K =  12.5 is computed\n",
      "simulation for K =  13.0 is computed\n",
      "simulation for K =  13.5 is computed\n",
      "simulation for K =  14.0 is computed\n",
      "simulation for K =  14.5 is computed\n",
      "simulation for K =  15.0 is computed\n",
      "simulation for K =  15.5 is computed\n",
      "simulation for K =  16.0 is computed\n",
      "simulation for K =  16.5 is computed\n",
      "simulation for K =  17.0 is computed\n",
      "simulation for K =  17.5 is computed\n",
      "simulation for K =  18.0 is computed\n",
      "simulation for K =  18.5 is computed\n",
      "simulation for K =  19.0 is computed\n",
      "simulation for K =  19.5 is computed\n",
      "simulation for K =  20.0 is computed\n",
      "simulation for K =  20.5 is computed\n",
      "simulation for K =  21.0 is computed\n",
      "simulation for K =  21.5 is computed\n",
      "simulation for K =  22.0 is computed\n",
      "simulation for K =  22.5 is computed\n",
      "simulation for K =  23.0 is computed\n",
      "simulation for K =  23.5 is computed\n",
      "simulation for K =  24.0 is computed\n",
      "simulation for K =  24.5 is computed\n",
      "the total time it took to complete this analysis was 2.777824103000057 seconds\n"
     ]
    }
   ],
   "source": [
    "# start the time stamp for the process\n",
    "start = timer()\n",
    "\n",
    "y = [1, 1.] # define initial population abundances / state variables\n",
    "time = np.arange(0, 6000, 1.) # create a time vector for your temporal evolution\n",
    "\n",
    "# create a empty list to store the max and min of both populations for each value of K\n",
    "y_max = []\n",
    "y_min = []\n",
    "\n",
    "# define your parameter values\n",
    "r = 1\n",
    "bif_k = np.arange(.5, 25, .5)\n",
    "a = 1.\n",
    "h = 0.1\n",
    "e = 0.1\n",
    "d = 0.1\n",
    "\n",
    "# loop over the values of K\n",
    "for k_value in bif_k:\n",
    "\n",
    "    # when creating the parameter list, make sure to pass the parameters in the same order as they are defined in the function of the model\n",
    "    pars = (r, k_value, a, h, e, d)\n",
    "\n",
    "    # solve the ODEs for each K value\n",
    "    pops = odeint(func=RM, y0=y, t=time, args=pars)\n",
    "\n",
    "    # store the max and min of both populations for each K value\n",
    "    y_min.append(pops[-1000:,:].min(axis=0))\n",
    "    y_max.append(pops[-1000:,:].max(axis=0))\n",
    "\n",
    "    # to check the progress of the simulation in the console you could print the following line\n",
    "    # you will notice this will get messy as the number of K values you want to study increases\n",
    "    print(\"simulation for K = \", k_value, \"is computed\")\n",
    "\n",
    "# transform the lists into numpy arrays for easier manipulation\n",
    "y_max = np.array(y_max)\n",
    "y_min = np.array(y_min)\n",
    "\n",
    "# stop the time stamp for the process\n",
    "end = timer()\n",
    "\n",
    "# return the time it took to run the simulation\n",
    "print(\"the total time it took to complete this analysis was\", end - start, \"seconds\")"
   ]
  },
  {
   "cell_type": "code",
   "execution_count": 12,
   "metadata": {},
   "outputs": [
    {
     "data": {
      "text/plain": [
       "<matplotlib.legend.Legend at 0x72f4f75e83e0>"
      ]
     },
     "execution_count": 12,
     "metadata": {},
     "output_type": "execute_result"
    },
    {
     "data": {
      "image/png": "[encoded data removed]",
      "text/plain": [
       "<Figure size 640x480 with 1 Axes>"
      ]
     },
     "metadata": {},
     "output_type": "display_data"
    }
   ],
   "source": [
    "# print your bifurcation diagram\n",
    "plt.plot(bif_k, y_max[:,0], color='blue', label='prey')\n",
    "plt.plot(bif_k, y_min[:,0], color='blue')\n",
    "plt.plot(bif_k, y_min[:,1], color='red')\n",
    "plt.plot(bif_k, y_max[:,1], color='red', label='predator')\n",
    "\n",
    "plt.xlabel('K')\n",
    "plt.ylabel('Population')\n",
    "plt.legend(loc = 'best')"
   ]
  },
  {
   "cell_type": "markdown",
   "metadata": {},
   "source": [
    "### using p_tqdm\n",
    "\n",
    "#### result = p_map(your_function, your_interable, number_of_cpus)\n",
    "\n",
    "In this example I use the function p_map() which performs an ordered map in parallel. This means that I can keep track of the correpondence between K values and population values. You can check other functions in the [github page](https://github.com/swansonk14).\n",
    "\n"
   ]
  },
  {
   "cell_type": "code",
   "execution_count": 15,
   "metadata": {},
   "outputs": [],
   "source": [
    "# first load the p_tqdm package to parallelize the simulation\n",
    "from p_tqdm import p_map\n",
    "\n",
    "# then load the cpu_count function from the os package to get the number of cores in your computer\n",
    "# this will allow you to parallelize the simulation\n",
    "from os import cpu_count"
   ]
  },
  {
   "cell_type": "code",
   "execution_count": 16,
   "metadata": {},
   "outputs": [],
   "source": [
    "# it is necessary to create a function that receives the value of K (your iterable) and returns the max and min of both populations (your output)\n",
    "\n",
    "def k_analysis(k_value):\n",
    "    \n",
    "    y = [1, 1.] # initial conditions\n",
    "    time = np.arange(0, 6000, 1.) # time vector\n",
    "    \n",
    "    # define your parameter values\n",
    "    r = 1\n",
    "    a = 1.\n",
    "    h = 0.1\n",
    "    e = 0.1\n",
    "    d = 0.1\n",
    "\n",
    "    # create a parameter list to pass to the ODE solver in the same order as they are defined in the function of the model\n",
    "    pars = (r, k_value, a, h, e, d)\n",
    "\n",
    "    # solve the ODEs\n",
    "    pops = odeint(func=RM, y0=y, t=time, args=pars)\n",
    "\n",
    "    # store the max and min of both populations for each K value\n",
    "    y_min = pops[-1000:,:].min(axis=0)\n",
    "    y_max = pops[-1000:,:].max(axis=0)\n",
    "\n",
    "    # return the max and min of both populations for each K value\n",
    "    return y_max, y_min"
   ]
  },
  {
   "cell_type": "code",
   "execution_count": 17,
   "metadata": {},
   "outputs": [
    {
     "data": {
      "application/vnd.jupyter.widget-view+json": {
       "model_id": "5cdcefd965d9411395321954ef9bb1f4",
       "version_major": 2,
       "version_minor": 0
      },
      "text/plain": [
       "  0%|          | 0/49 [00:00<?, ?it/s]"
      ]
     },
     "metadata": {},
     "output_type": "display_data"
    },
    {
     "name": "stdout",
     "output_type": "stream",
     "text": [
      "the total time it took to complete this analysis was 0.6515955990000748 seconds\n"
     ]
    }
   ],
   "source": [
    "# start the time stamp for the process\n",
    "start = timer()\n",
    "\n",
    "# define the range of K values you want to study\n",
    "bif_k = np.arange(.5, 25, .5)\n",
    "\n",
    "# run the simulation in parallel\n",
    "results = p_map(k_analysis, bif_k, num_cpus=cpu_count()-1)\n",
    "# notice I provided the function wrapping the simulation, the range of K values, \n",
    "# and the number of cores to use which is all the avaliable cores except one\n",
    "# COOL TEST: try putting num_cpus=1. This will run the simulation in serial mode\n",
    "# and you will notice the difference in time it takes to run the simulation\n",
    "\n",
    "# stop the time stamp for the process\n",
    "end = timer()\n",
    "\n",
    "# return the time it took to run the simulation\n",
    "print(\"the total time it took to complete this analysis was\", end - start, \"seconds\")"
   ]
  },
  {
   "cell_type": "markdown",
   "metadata": {},
   "source": [
    "## TA-DA!\n",
    "\n",
    "now this is a very simple example, and the time difference between the two approches is a couple of seconds.\n",
    "\n",
    "however, if you are studying a few parameters in your model (which is usually the reality of people working with mathematical models) you'll find it very usefull to parallelize your code AND track the progress over time.\n",
    "\n",
    "Of course there are other ways you can parallelize your code and track progress, but what I especially like about p_tqdm is how simple and user friendly the implementation is."
   ]
  },
  {
   "cell_type": "code",
   "execution_count": 13,
   "metadata": {},
   "outputs": [
    {
     "data": {
      "text/plain": [
       "[(array([ 5.0000000e-01, -2.0594491e-16]),\n",
       "  array([ 5.00000000e-01, -2.17218452e-16])),\n",
       " (array([1.00000000e+00, 1.35768558e-09]),\n",
       "  array([ 9.99999999e-01, -5.37276197e-10])),\n",
       " (array([1.11111111, 0.28806584]), array([1.11111111, 0.28806584])),\n",
       " (array([1.11111111, 0.49382716]), array([1.11111111, 0.49382716])),\n",
       " (array([1.11111111, 0.61728395]), array([1.11111111, 0.61728395])),\n",
       " (array([1.11111111, 0.69958848]), array([1.11111111, 0.69958848])),\n",
       " (array([1.11111111, 0.75837743]), array([1.11111111, 0.75837743])),\n",
       " (array([1.11111111, 0.80246914]), array([1.11111111, 0.80246914])),\n",
       " (array([1.11111111, 0.83676269]), array([1.11111111, 0.83676269])),\n",
       " (array([1.11111111, 0.86419753]), array([1.11111111, 0.86419753])),\n",
       " (array([1.11111111, 0.88664422]), array([1.11111111, 0.88664422])),\n",
       " (array([1.11111111, 0.90534979]), array([1.11111111, 0.90534979])),\n",
       " (array([1.11111111, 0.92117759]), array([1.11111111, 0.92117759])),\n",
       " (array([1.11111111, 0.93474427]), array([1.11111111, 0.93474427])),\n",
       " (array([1.11111111, 0.94650206]), array([1.11111111, 0.94650206])),\n",
       " (array([1.11111111, 0.95679012]), array([1.11111111, 0.95679012])),\n",
       " (array([1.11111111, 0.96586783]), array([1.11111111, 0.96586783])),\n",
       " (array([1.11111111, 0.9739369 ]), array([1.11111111, 0.9739369 ])),\n",
       " (array([1.11111111, 0.9811566 ]), array([1.11111111, 0.9811566 ])),\n",
       " (array([1.11111218, 0.98765463]), array([1.11111004, 0.98765402])),\n",
       " (array([1.11111258, 0.99353364]), array([1.11110964, 0.99353279])),\n",
       " (array([1.11111294, 0.99887818]), array([1.11110932, 0.99887715])),\n",
       " (array([1.11111426, 1.00375827]), array([1.11110799, 1.00375648])),\n",
       " (array([1.1122363 , 1.00855213]), array([1.10999788, 1.00791215])),\n",
       " (array([2.09384205, 1.25108138]), array([0.49792352, 0.80053072])),\n",
       " (array([2.99971158, 1.43333573]), array([0.25330059, 0.67586895])),\n",
       " (array([3.76448741, 1.57178879]), array([0.14489589, 0.59622235])),\n",
       " (array([4.4749031 , 1.69215207]), array([0.08624167, 0.5357337 ])),\n",
       " (array([5.15633719, 1.80208795]), array([0.05220279, 0.48657105])),\n",
       " (array([5.82041292, 1.90524009]), array([0.03183843, 0.44509218])),\n",
       " (array([6.47305818, 2.00342294]), array([0.01946942, 0.40926093])),\n",
       " (array([7.1173845 , 2.09782365]), array([0.01190597, 0.37779864])),\n",
       " (array([7.756678  , 2.18932694]), array([0.00727041, 0.34983979])),\n",
       " (array([8.39148844, 2.27837399]), array([0.00443028, 0.32476652])),\n",
       " (array([9.02289641, 2.36533268]), array([0.00269297, 0.30212072])),\n",
       " (array([9.65192547, 2.45069434]), array([0.00163269, 0.28155013])),\n",
       " (array([10.27793008,  2.53448246]), array([0.00098734, 0.262776  ])),\n",
       " (array([10.84919059,  2.59945993]), array([0.00059553, 0.24686689])),\n",
       " (array([11.52682578,  2.69831339]), array([0.00035835, 0.22975133])),\n",
       " (array([12.14863995,  2.77856603]), array([2.15130629e-04, 2.15166822e-01])),\n",
       " (array([12.76881098,  2.85793064]), array([1.28879294e-04, 2.01694049e-01])),\n",
       " (array([13.38814012,  2.93636931]), array([7.70493883e-05, 1.89204392e-01])),\n",
       " (array([14.00585929,  3.01413266]), array([4.59753089e-05, 1.77621826e-01])),\n",
       " (array([14.62217141,  3.09111537]), array([2.73925431e-05, 1.66863582e-01])),\n",
       " (array([15.23766696,  3.16704811]), array([1.62953115e-05, 1.56836194e-01])),\n",
       " (array([15.8515166 ,  3.24317646]), array([9.67816907e-06, 1.47500773e-01])),\n",
       " (array([16.46503847,  3.3182914 ]), array([5.74095282e-06, 1.38781594e-01])),\n",
       " (array([17.07725577,  3.39303933]), array([3.39642685e-06, 1.30613145e-01])),\n",
       " (array([17.68879588,  3.46713014]), array([2.00670125e-06, 1.22977794e-01]))]"
      ]
     },
     "execution_count": 13,
     "metadata": {},
     "output_type": "execute_result"
    }
   ],
   "source": [
    "# notice that the results are stored in a list of tuples, \n",
    "# where each tuple contains the max and min of both populations for each K value\n",
    "results"
   ]
  },
  {
   "cell_type": "code",
   "execution_count": 18,
   "metadata": {},
   "outputs": [],
   "source": [
    "# we will transform this list of tuples into a numpy array for easier manipulation\n",
    "y_max_pop = []\n",
    "y_min_pop = []\n",
    "\n",
    "for r in results:\n",
    "    # unpack the tuple into the max and min of both populations\n",
    "    y_max, y_min = r\n",
    "\n",
    "    # append the max and min of both populations to the respective lists\n",
    "    y_max_pop.append(y_max)\n",
    "    y_min_pop.append(y_min)\n",
    "\n",
    "y_max_pop = np.array(y_max_pop)\n",
    "y_min_pop = np.array(y_min_pop)"
   ]
  },
  {
   "cell_type": "code",
   "execution_count": 19,
   "metadata": {},
   "outputs": [
    {
     "data": {
      "text/plain": [
       "<matplotlib.legend.Legend at 0x72f4f2158650>"
      ]
     },
     "execution_count": 19,
     "metadata": {},
     "output_type": "execute_result"
    },
    {
     "data": {
      "image/png": "[encoded data removed]",
      "text/plain": [
       "<Figure size 640x480 with 1 Axes>"
      ]
     },
     "metadata": {},
     "output_type": "display_data"
    }
   ],
   "source": [
    "# print your bifurcation diagram\n",
    "plt.plot(bif_k, y_max_pop[:,0], color='blue', label='prey')\n",
    "plt.plot(bif_k, y_min_pop[:,0], color='blue')\n",
    "plt.plot(bif_k, y_min_pop[:,1], color='red')\n",
    "plt.plot(bif_k, y_max_pop[:,1], color='red', label='predator')\n",
    "\n",
    "plt.xlabel('K')\n",
    "plt.ylabel('Population')\n",
    "plt.legend(loc = 'best')"
   ]
  }
 ],
 "metadata": {
  "kernelspec": {
   "display_name": "base",
   "language": "python",
   "name": "python3"
  },
  "language_info": {
   "codemirror_mode": {
    "name": "ipython",
    "version": 3
   },
   "file_extension": ".py",
   "mimetype": "text/x-python",
   "name": "python",
   "nbconvert_exporter": "python",
   "pygments_lexer": "ipython3",
   "version": "3.12.2"
  }
 },
 "nbformat": 4,
 "nbformat_minor": 2
}
